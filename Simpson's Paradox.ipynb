{
 "cells": [
  {
   "cell_type": "markdown",
   "metadata": {},
   "source": [
    "# Generating Data for Simpson's Paradox\n",
    "\n",
    "I recently came across the question [What are some correlations that seem strange at the outset?](https://www.quora.com/What-are-some-correlations-that-seem-strange-at-the-outset) and immediately thought of Simpson’s Paradox - a phenomenon in which a trend appears in several different groups of data but disappears or reverses when these groups are combined$^{[1]}$.\n",
    "\n",
    "So, I decided to generate data that shows this effect visually. Ultimately, I wanted to generate 2 variables that have a negative correlation, but when stratified by a 3rd variable, their relationship flips to a positive correlation.\n",
    "\n",
    "Generating correlated data is very simple using `mvrnorm()` from the [MASS](https://cran.r-project.org/web/packages/MASS/MASS.pdf) library. All that is needed are the corresponding mean for each variable, and the covariance that exists between them. To do this, we first load the library, and then define our two means:"
   ]
  },
  {
   "cell_type": "code",
   "execution_count": 26,
   "metadata": {},
   "outputs": [],
   "source": [
    "# Suppressing All Warnings\n",
    "options(warn=-1)\n",
    "\n",
    "library(tidyverse)\n",
    "library(MASS)\n",
    "mu <- c(20,4)"
   ]
  },
  {
   "cell_type": "markdown",
   "metadata": {},
   "source": [
    "Next, we define our covariance as a matrix, and specify the covariance relationship (i.e. 0.7 in this case):"
   ]
  },
  {
   "cell_type": "code",
   "execution_count": 27,
   "metadata": {},
   "outputs": [],
   "source": [
    "Sigma <- matrix(.7, nrow=2, ncol=2) + diag(2)*.3"
   ]
  },
  {
   "cell_type": "markdown",
   "metadata": {},
   "source": [
    "Now we have everything needed for mvrnorm to do its magic. All we need to do is specify the n for the number of observations:"
   ]
  },
  {
   "cell_type": "code",
   "execution_count": 28,
   "metadata": {},
   "outputs": [],
   "source": [
    "vars <- mvrnorm(n=100, mu=mu, Sigma=Sigma)"
   ]
  },
  {
   "cell_type": "markdown",
   "metadata": {},
   "source": [
    "To check that this worked, we can simply do the following:"
   ]
  },
  {
   "cell_type": "code",
   "execution_count": 29,
   "metadata": {},
   "outputs": [
    {
     "data": {
      "text/html": [
       "<table>\n",
       "<tbody>\n",
       "\t<tr><td>20.21321</td><td>4.520225</td></tr>\n",
       "\t<tr><td>20.94504</td><td>4.164673</td></tr>\n",
       "\t<tr><td>21.20805</td><td>5.357982</td></tr>\n",
       "\t<tr><td>18.19429</td><td>2.816527</td></tr>\n",
       "\t<tr><td>20.46522</td><td>4.619396</td></tr>\n",
       "\t<tr><td>18.01381</td><td>2.444047</td></tr>\n",
       "</tbody>\n",
       "</table>\n"
      ],
      "text/latex": [
       "\\begin{tabular}{ll}\n",
       "\t 20.21321 & 4.520225\\\\\n",
       "\t 20.94504 & 4.164673\\\\\n",
       "\t 21.20805 & 5.357982\\\\\n",
       "\t 18.19429 & 2.816527\\\\\n",
       "\t 20.46522 & 4.619396\\\\\n",
       "\t 18.01381 & 2.444047\\\\\n",
       "\\end{tabular}\n"
      ],
      "text/markdown": [
       "\n",
       "| 20.21321 | 4.520225 | \n",
       "| 20.94504 | 4.164673 | \n",
       "| 21.20805 | 5.357982 | \n",
       "| 18.19429 | 2.816527 | \n",
       "| 20.46522 | 4.619396 | \n",
       "| 18.01381 | 2.444047 | \n",
       "\n",
       "\n"
      ],
      "text/plain": [
       "     [,1]     [,2]    \n",
       "[1,] 20.21321 4.520225\n",
       "[2,] 20.94504 4.164673\n",
       "[3,] 21.20805 5.357982\n",
       "[4,] 18.19429 2.816527\n",
       "[5,] 20.46522 4.619396\n",
       "[6,] 18.01381 2.444047"
      ]
     },
     "metadata": {},
     "output_type": "display_data"
    },
    {
     "data": {
      "text/html": [
       "<table>\n",
       "<tbody>\n",
       "\t<tr><td>1.0000000</td><td>0.6207432</td></tr>\n",
       "\t<tr><td>0.6207432</td><td>1.0000000</td></tr>\n",
       "</tbody>\n",
       "</table>\n"
      ],
      "text/latex": [
       "\\begin{tabular}{ll}\n",
       "\t 1.0000000 & 0.6207432\\\\\n",
       "\t 0.6207432 & 1.0000000\\\\\n",
       "\\end{tabular}\n"
      ],
      "text/markdown": [
       "\n",
       "| 1.0000000 | 0.6207432 | \n",
       "| 0.6207432 | 1.0000000 | \n",
       "\n",
       "\n"
      ],
      "text/plain": [
       "     [,1]      [,2]     \n",
       "[1,] 1.0000000 0.6207432\n",
       "[2,] 0.6207432 1.0000000"
      ]
     },
     "metadata": {},
     "output_type": "display_data"
    }
   ],
   "source": [
    "head(vars)\n",
    "cor(vars)"
   ]
  },
  {
   "cell_type": "markdown",
   "metadata": {},
   "source": [
    "The generated variables have a covariance of ~0.7, along the lines of our expectations. We can also check to see what the relationship looks like visually:"
   ]
  },
  {
   "cell_type": "code",
   "execution_count": 30,
   "metadata": {},
   "outputs": [
    {
     "data": {
      "image/png": "[encoded data removed]",
      "text/plain": [
       "plot without title"
      ]
     },
     "metadata": {},
     "output_type": "display_data"
    }
   ],
   "source": [
    "options(repr.plot.width = 7, repr.plot.height=5)\n",
    "\n",
    "plot(vars[,1],vars[,2])"
   ]
  },
  {
   "cell_type": "markdown",
   "metadata": {},
   "source": [
    "Looks like what we would expect.\n",
    "\n",
    "Now that we feel comfortable with this generation, we can repeat this process while changing our corresponding values for our mean of each variable to reflect a different pattern, for 5 different strata (`confVar`). Since this is all we want to change, creating a function will make repeating the generation much easier.\n",
    "\n",
    "We’ll also want to create a different dataframe for each generation (this will be more clear at the end):"
   ]
  },
  {
   "cell_type": "code",
   "execution_count": 31,
   "metadata": {},
   "outputs": [],
   "source": [
    "corVars<-function(m1,m2,confVar){\n",
    "  mu <- c(m1,m2)\n",
    "  Sigma <- matrix(.7, nrow=2, ncol=2) + diag(2)*.3\n",
    "  vars <- mvrnorm(n=100, mu=mu, Sigma=Sigma)\n",
    "  Var1<-vars[,1]\n",
    "  Var2<-vars[,2]\n",
    "  df<-as.data.frame(cbind(Var1 = Var1,Var2 = Var2,Var3 = confVar))\n",
    "  df$Var1<-as.numeric(as.character(df$Var1))\n",
    "  df$Var2<-as.numeric(as.character(df$Var2))\n",
    "  df\n",
    "}"
   ]
  },
  {
   "cell_type": "markdown",
   "metadata": {},
   "source": [
    "A quick check to make sure the function works:"
   ]
  },
  {
   "cell_type": "code",
   "execution_count": 32,
   "metadata": {},
   "outputs": [
    {
     "data": {
      "image/png": "[encoded data removed]",
      "text/plain": [
       "plot without title"
      ]
     },
     "metadata": {},
     "output_type": "display_data"
    }
   ],
   "source": [
    "d1 <- corVars(m1 = 20, m2 = 4, confVar = \"A\")\n",
    "plot(d1$Var1,d1$Var2)"
   ]
  },
  {
   "cell_type": "markdown",
   "metadata": {},
   "source": [
    "Looks good.\n",
    "\n",
    "Now, we repeat the process for each strata and then combine the dataframes into a single dataframe using `rbind`:"
   ]
  },
  {
   "cell_type": "code",
   "execution_count": 33,
   "metadata": {},
   "outputs": [],
   "source": [
    "d1 <- corVars(m1 = 20, m2 = 4, confVar = \"A\")\n",
    "d2 <- corVars(m1 = 18, m2 = 6, confVar = \"B\")\n",
    "d3 <- corVars(m1 = 16, m2 = 8, confVar = \"C\")\n",
    "d4 <- corVars(m1 = 14, m2 = 10, confVar = \"D\")\n",
    "d5 <- corVars(m1 = 12, m2 = 12, confVar = \"E\")\n",
    " \n",
    "df<-rbind(d1,d2,d3,d4,d5)"
   ]
  },
  {
   "cell_type": "markdown",
   "metadata": {},
   "source": [
    "To quickly look at our generated df dataset, we can do `summary(df)`:"
   ]
  },
  {
   "cell_type": "code",
   "execution_count": 34,
   "metadata": {},
   "outputs": [
    {
     "data": {
      "text/plain": [
       "      Var1             Var2        Var3   \n",
       " Min.   : 9.712   Min.   : 2.088   A:100  \n",
       " 1st Qu.:13.511   1st Qu.: 5.462   B:100  \n",
       " Median :16.002   Median : 8.176   C:100  \n",
       " Mean   :15.951   Mean   : 7.986   D:100  \n",
       " 3rd Qu.:18.329   3rd Qu.:10.518   E:100  \n",
       " Max.   :22.595   Max.   :14.145          "
      ]
     },
     "metadata": {},
     "output_type": "display_data"
    }
   ],
   "source": [
    "summary(df)"
   ]
  },
  {
   "cell_type": "markdown",
   "metadata": {},
   "source": [
    "Now, we’re ready to illustrate our Simpson’s Paradox. First, we check the relationship between `Var1` and `Var2` only:"
   ]
  },
  {
   "cell_type": "code",
   "execution_count": 35,
   "metadata": {},
   "outputs": [
    {
     "data": {
      "text/plain": [
       "\n",
       "\tPearson's product-moment correlation\n",
       "\n",
       "data:  df$Var1 and df$Var2\n",
       "t = -30.776, df = 498, p-value < 2.2e-16\n",
       "alternative hypothesis: true correlation is not equal to 0\n",
       "95 percent confidence interval:\n",
       " -0.8377827 -0.7770402\n",
       "sample estimates:\n",
       "       cor \n",
       "-0.8095675 \n"
      ]
     },
     "metadata": {},
     "output_type": "display_data"
    }
   ],
   "source": [
    "cor.test(df$Var1,df$Var2)"
   ]
  },
  {
   "cell_type": "markdown",
   "metadata": {},
   "source": [
    "A <b>very</b> strong negative correlation. Let's plot this out:"
   ]
  },
  {
   "cell_type": "code",
   "execution_count": 36,
   "metadata": {},
   "outputs": [
    {
     "data": {},
     "metadata": {},
     "output_type": "display_data"
    },
    {
     "data": {
      "image/png": "[encoded data removed]",
      "text/plain": [
       "plot without title"
      ]
     },
     "metadata": {},
     "output_type": "display_data"
    }
   ],
   "source": [
    "df %>%\n",
    "  ggplot(aes(x=Var1,y=Var2)) +\n",
    "  geom_point()+\n",
    "  geom_smooth(method=\"lm\")+\n",
    "  xlab(\"Variable One\")+ylab(\"Variable Two\")"
   ]
  },
  {
   "cell_type": "markdown",
   "metadata": {},
   "source": [
    "Based on our correlation coefficient of -0.82 and our visual, we can conclude that there is a negative relationship between `Var1` and `Var2`. But what happens when we consider `Var3`?"
   ]
  },
  {
   "cell_type": "code",
   "execution_count": 37,
   "metadata": {},
   "outputs": [
    {
     "data": {},
     "metadata": {},
     "output_type": "display_data"
    },
    {
     "data": {
      "image/png": "[encoded data removed]",
      "text/plain": [
       "plot without title"
      ]
     },
     "metadata": {},
     "output_type": "display_data"
    }
   ],
   "source": [
    "df %>%\n",
    "  ggplot(aes(x=Var1,y=Var2,fill=Var3,colour=Var3)) +\n",
    "  geom_point()+\n",
    "  geom_smooth(method=\"lm\")+\n",
    "  xlab(\"Variable One\")+ylab(\"Variable Two\")"
   ]
  },
  {
   "cell_type": "markdown",
   "metadata": {},
   "source": [
    "The same exact dataset shows us a different relationship. `Var1` and `Var2` no longer seem negatively correlated when stratified by `Var3`.\n",
    "\n",
    "This is paradox not only exists in real data, if not explored appropriately, it can lead to wildly inaccurate results.\n",
    "\n",
    "# Footnotes\n",
    "\n",
    "[1] [Simpson's paradox - Wikipedia](https://en.wikipedia.org/wiki/Simpson's_paradox)"
   ]
  }
 ],
 "metadata": {
  "kernelspec": {
   "display_name": "R",
   "language": "R",
   "name": "ir"
  },
  "language_info": {
   "codemirror_mode": "r",
   "file_extension": ".r",
   "mimetype": "text/x-r-source",
   "name": "R",
   "pygments_lexer": "r",
   "version": "3.4.1"
  }
 },
 "nbformat": 4,
 "nbformat_minor": 2
}
